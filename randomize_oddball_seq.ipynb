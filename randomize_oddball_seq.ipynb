{
 "cells": [
  {
   "cell_type": "code",
   "execution_count": 1,
   "metadata": {
    "collapsed": true
   },
   "outputs": [],
   "source": [
    "%matplotlib inline\n",
    "# import seaborn as sns\n",
    "import numpy as np\n",
    "import itertools\n",
    "import csv\n",
    "\n",
    "# import matplotlib.pyplot as plt\n",
    "# from scipy import stats"
   ]
  },
  {
   "cell_type": "code",
   "execution_count": 2,
   "metadata": {
    "collapsed": true
   },
   "outputs": [],
   "source": [
    "# Experiment Design\n",
    "conditions = ['tar', 'std', 'odd']\n",
    "n_sbj = 30\n",
    "n_trials = 100\n",
    "n_std = 76\n",
    "n_tar = 12\n",
    "n_odd = 12\n",
    "n_blocks = 8       # likely 3-4 for ECoG, max 8 for EEG\n",
    "\n",
    "# Randomizing stimulus and response assignments\n",
    "resp_opts = [0, 1]\n",
    "cond_opts = [0, 1, 2]\n",
    "resp_perms = list(itertools.permutations(resp_opts))\n",
    "cond_perms = list(itertools.permutations(cond_opts))"
   ]
  },
  {
   "cell_type": "markdown",
   "metadata": {},
   "source": [
    "# Response Randomization"
   ]
  },
  {
   "cell_type": "code",
   "execution_count": 11,
   "metadata": {
    "collapsed": false
   },
   "outputs": [
    {
     "data": {
      "text/plain": [
       "array([1, 0, 2])"
      ]
     },
     "execution_count": 11,
     "metadata": {},
     "output_type": "execute_result"
    }
   ],
   "source": [
    "np.random.permutation(np.arange(len(conditions)))"
   ]
  },
  {
   "cell_type": "markdown",
   "metadata": {
    "collapsed": true
   },
   "source": [
    "### I'm not using this, just going in order and cycling through the permutations to make sure they're evenly covered"
   ]
  },
  {
   "cell_type": "markdown",
   "metadata": {},
   "source": [
    "# Sequence Randomization"
   ]
  },
  {
   "cell_type": "markdown",
   "metadata": {},
   "source": [
    "## Real Task"
   ]
  },
  {
   "cell_type": "code",
   "execution_count": 3,
   "metadata": {
    "collapsed": false
   },
   "outputs": [],
   "source": [
    "# Randomization Constraints\n",
    "first_possible = 3 #10    # first trial that can be surprise\n",
    "min_gap = 3    # minimum trials between surprising outcomes\n",
    "\n",
    "assert first_possible < n_trials-(n_odd*min_gap)"
   ]
  },
  {
   "cell_type": "code",
   "execution_count": 4,
   "metadata": {
    "collapsed": true
   },
   "outputs": [],
   "source": [
    "def repeat_cnt(sequence):\n",
    "    # count the number of equivalent neighbors in a sequence\n",
    "    # e.g., repeat_cnt([4 2 3 3 6 10 7 7 7]) = [1 1 2 1 1 3]\n",
    "    return [sum(1 for _ in group) for _, group in itertools.groupby(sequence)]"
   ]
  },
  {
   "cell_type": "code",
   "execution_count": 6,
   "metadata": {
    "collapsed": false
   },
   "outputs": [
    {
     "name": "stdout",
     "output_type": "stream",
     "text": [
      "# times re-randomizing =  16695\n"
     ]
    }
   ],
   "source": [
    "# Create list of trial types to randomize\n",
    "cond_n = np.concatenate((np.tile(0,n_tar),np.tile(1,n_std),np.tile(2,n_odd))).astype(int)\n",
    "\n",
    "# Create randomized trial orders\n",
    "cond_blocks = np.zeros([n_blocks,n_trials])\n",
    "rand_iter = 1\n",
    "for b in range(n_blocks):\n",
    "    cond_blocks[b,:] = np.random.permutation(cond_n)\n",
    "    # Criteria:  not starting on target or oddball, no targets or oddballs within min_gap of last\n",
    "    while np.where(cond_blocks[b,:]==0)[0][0] < first_possible or \\\n",
    "            np.where(cond_blocks[b,:]==2)[0][0] < first_possible or \\\n",
    "            (np.diff(np.where(cond_blocks[b,:]==0)) < min_gap).any() or \\\n",
    "            (np.diff(np.where(cond_blocks[b,:]==2)) < min_gap).any():\n",
    "        cond_blocks[b,:] = np.random.permutation(cond_n)\n",
    "        rand_iter += 1\n",
    "print '# times re-randomizing = ', rand_iter"
   ]
  },
  {
   "cell_type": "code",
   "execution_count": 8,
   "metadata": {
    "collapsed": false,
    "scrolled": true
   },
   "outputs": [
    {
     "name": "stdout",
     "output_type": "stream",
     "text": [
      "0\n",
      "first (tar, odd): 12 3\n",
      "min gaps (tar, odd): 4 3\n",
      "1\n",
      "first (tar, odd): 9 3\n",
      "min gaps (tar, odd): 3 3\n",
      "2\n",
      "first (tar, odd): 6 18\n",
      "min gaps (tar, odd): 3 3\n",
      "3\n",
      "first (tar, odd): 5 3\n",
      "min gaps (tar, odd): 3 3\n",
      "4\n",
      "first (tar, odd): 11 7\n",
      "min gaps (tar, odd): 4 3\n",
      "5\n",
      "first (tar, odd): 6 3\n",
      "min gaps (tar, odd): 3 3\n",
      "6\n",
      "first (tar, odd): 13 6\n",
      "min gaps (tar, odd): 3 3\n",
      "7\n",
      "first (tar, odd): 11 27\n",
      "min gaps (tar, odd): 3 3\n"
     ]
    }
   ],
   "source": [
    "for b in range(n_blocks):\n",
    "    print b\n",
    "    print 'first (tar, odd):', np.where(cond_blocks[b,:]==0)[0][0], np.where(cond_blocks[b,:]==2)[0][0]\n",
    "    print 'min gaps (tar, odd):', np.min(np.diff(np.where(cond_blocks[b,:]==0))), np.min(np.diff(np.where(cond_blocks[b,:]==2)))"
   ]
  },
  {
   "cell_type": "code",
   "execution_count": 9,
   "metadata": {
    "collapsed": false
   },
   "outputs": [],
   "source": [
    "# Write output\n",
    "with open('oddball_trial_order_csvs/block_' + str(n_trials) + '_trial_randomized_orders.csv', 'w') as write:\n",
    "    writer = csv.writer(write)\n",
    "    for b in range(n_blocks):\n",
    "        writer.writerow(cond_blocks[b,:])"
   ]
  },
  {
   "cell_type": "markdown",
   "metadata": {},
   "source": [
    "## Debug Blocks"
   ]
  },
  {
   "cell_type": "code",
   "execution_count": 11,
   "metadata": {
    "collapsed": false
   },
   "outputs": [
    {
     "name": "stdout",
     "output_type": "stream",
     "text": [
      "# times re-randomizing =  11\n"
     ]
    }
   ],
   "source": [
    "# Create list of trial types to randomize\n",
    "n_trials = 10\n",
    "n_blocks = 8\n",
    "n_std = 8\n",
    "n_tar = 1\n",
    "n_odd = 1\n",
    "cond_n = np.concatenate((np.tile(0,n_tar),np.tile(1,n_std),np.tile(2,n_odd))).astype(int)\n",
    "\n",
    "# Create randomized trial orders\n",
    "cond_blocks = np.zeros([n_blocks,n_trials])\n",
    "rand_iter = 1\n",
    "for b in range(n_blocks):\n",
    "    cond_blocks[b,:] = np.random.permutation(cond_n)\n",
    "    # Criteria:  not starting on target or oddball, no targets or oddballs within min_gap of last\n",
    "    while np.where(cond_blocks[b,:]==0)[0][0] < first_possible or \\\n",
    "            np.where(cond_blocks[b,:]==2)[0][0] < first_possible or \\\n",
    "            (np.diff(np.where(cond_blocks[b,:]==0)) < min_gap).any() or \\\n",
    "            (np.diff(np.where(cond_blocks[b,:]==2)) < min_gap).any():\n",
    "        cond_blocks[b,:] = np.random.permutation(cond_n)\n",
    "        rand_iter += 1\n",
    "print '# times re-randomizing = ', rand_iter"
   ]
  },
  {
   "cell_type": "code",
   "execution_count": 12,
   "metadata": {
    "collapsed": true
   },
   "outputs": [],
   "source": [
    "# Write output\n",
    "with open('oddball_trial_order_csvs/debug_' + str(n_trials) + '_trial_randomized_orders.csv', 'w') as write:\n",
    "    writer = csv.writer(write)\n",
    "    for b in range(n_blocks):\n",
    "        writer.writerow(cond_blocks[b,:])"
   ]
  },
  {
   "cell_type": "code",
   "execution_count": null,
   "metadata": {
    "collapsed": true
   },
   "outputs": [],
   "source": []
  }
 ],
 "metadata": {
  "kernelspec": {
   "display_name": "Python 2",
   "language": "python",
   "name": "python2"
  },
  "language_info": {
   "codemirror_mode": {
    "name": "ipython",
    "version": 2
   },
   "file_extension": ".py",
   "mimetype": "text/x-python",
   "name": "python",
   "nbconvert_exporter": "python",
   "pygments_lexer": "ipython2",
   "version": "2.7.13"
  }
 },
 "nbformat": 4,
 "nbformat_minor": 1
}
