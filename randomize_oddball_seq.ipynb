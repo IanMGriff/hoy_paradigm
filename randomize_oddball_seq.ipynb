{
 "cells": [
  {
   "cell_type": "code",
   "execution_count": 1,
   "metadata": {
    "collapsed": true
   },
   "outputs": [],
   "source": [
    "%matplotlib inline\n",
    "# import seaborn as sns\n",
    "import numpy as np\n",
    "import itertools\n",
    "import csv\n",
    "\n",
    "# import matplotlib.pyplot as plt\n",
    "# from scipy import stats"
   ]
  },
  {
   "cell_type": "code",
   "execution_count": 2,
   "metadata": {
    "collapsed": true
   },
   "outputs": [],
   "source": [
    "# Experiment Design\n",
    "conditions = ['std', 'tar', 'odd']\n",
    "n_sbj = 30\n",
    "n_trials = 130\n",
    "n_std = 98\n",
    "n_tar = 16\n",
    "n_odd = 16\n",
    "n_blocks = 8       # likely 3-4 for ECoG, max 8 for EEG\n",
    "\n",
    "# Randomizing stimulus and response assignments\n",
    "resp_opts = [0, 1]\n",
    "cond_opts = [0, 1, 2]\n",
    "resp_perms = list(itertools.permutations(resp_opts))\n",
    "cond_perms = list(itertools.permutations(cond_opts))"
   ]
  },
  {
   "cell_type": "markdown",
   "metadata": {},
   "source": [
    "# Response Randomization"
   ]
  },
  {
   "cell_type": "code",
   "execution_count": 3,
   "metadata": {
    "collapsed": false
   },
   "outputs": [
    {
     "data": {
      "text/plain": [
       "array([2, 0, 1])"
      ]
     },
     "execution_count": 3,
     "metadata": {},
     "output_type": "execute_result"
    }
   ],
   "source": [
    "np.random.permutation(np.arange(len(conditions)))"
   ]
  },
  {
   "cell_type": "markdown",
   "metadata": {
    "collapsed": true
   },
   "source": [
    "### I'm not using this, just going in order and cycling through the permutations to make sure they're evenly covered"
   ]
  },
  {
   "cell_type": "markdown",
   "metadata": {},
   "source": [
    "# Sequence Randomization"
   ]
  },
  {
   "cell_type": "markdown",
   "metadata": {},
   "source": [
    "## Real Task"
   ]
  },
  {
   "cell_type": "code",
   "execution_count": 3,
   "metadata": {
    "collapsed": false
   },
   "outputs": [],
   "source": [
    "# Randomization Constraints\n",
    "first_possible = 3 #10    # first trial that can be surprise\n",
    "min_gap = 3    # minimum trials between surprising outcomes\n",
    "\n",
    "assert first_possible < n_trials-(n_odd*min_gap)"
   ]
  },
  {
   "cell_type": "code",
   "execution_count": 4,
   "metadata": {
    "collapsed": true
   },
   "outputs": [],
   "source": [
    "def repeat_cnt(sequence):\n",
    "    # count the number of equivalent neighbors in a sequence\n",
    "    # e.g., repeat_cnt([4 2 3 3 6 10 7 7 7]) = [1 1 2 1 1 3]\n",
    "    return [sum(1 for _ in group) for _, group in itertools.groupby(sequence)]"
   ]
  },
  {
   "cell_type": "code",
   "execution_count": 5,
   "metadata": {
    "collapsed": false
   },
   "outputs": [
    {
     "name": "stdout",
     "output_type": "stream",
     "text": [
      "# times re-randomizing =  123848\n"
     ]
    }
   ],
   "source": [
    "# Create list of trial types to randomize\n",
    "cond_n = np.concatenate((np.tile(0,n_std),np.tile(1,n_tar),np.tile(2,n_odd))).astype(int)\n",
    "\n",
    "# Create randomized trial orders\n",
    "cond_blocks = np.zeros([n_blocks,n_trials])\n",
    "rand_iter = 1\n",
    "for b in range(n_blocks):\n",
    "    cond_blocks[b,:] = np.random.permutation(cond_n)\n",
    "    # Criteria:  not starting on target or oddball, no targets or oddballs within min_gap of last\n",
    "    while np.where(cond_blocks[b,:]==1)[0][0] < first_possible or \\\n",
    "            np.where(cond_blocks[b,:]==2)[0][0] < first_possible or \\\n",
    "            (np.diff(np.where(cond_blocks[b,:]==1)) < min_gap).any() or \\\n",
    "            (np.diff(np.where(cond_blocks[b,:]==2)) < min_gap).any():\n",
    "        cond_blocks[b,:] = np.random.permutation(cond_n)\n",
    "        rand_iter += 1\n",
    "print '# times re-randomizing = ', rand_iter"
   ]
  },
  {
   "cell_type": "code",
   "execution_count": 6,
   "metadata": {
    "collapsed": false,
    "scrolled": true
   },
   "outputs": [
    {
     "name": "stdout",
     "output_type": "stream",
     "text": [
      "0\n",
      "first (tar, odd): 5 8\n",
      "min gaps (tar, odd): 3 3\n",
      "1\n",
      "first (tar, odd): 3 12\n",
      "min gaps (tar, odd): 3 3\n",
      "2\n",
      "first (tar, odd): 15 9\n",
      "min gaps (tar, odd): 3 3\n",
      "3\n",
      "first (tar, odd): 5 10\n",
      "min gaps (tar, odd): 3 3\n",
      "4\n",
      "first (tar, odd): 5 8\n",
      "min gaps (tar, odd): 3 3\n",
      "5\n",
      "first (tar, odd): 9 16\n",
      "min gaps (tar, odd): 3 3\n",
      "6\n",
      "first (tar, odd): 3 11\n",
      "min gaps (tar, odd): 3 3\n",
      "7\n",
      "first (tar, odd): 15 3\n",
      "min gaps (tar, odd): 3 3\n"
     ]
    }
   ],
   "source": [
    "for b in range(n_blocks):\n",
    "    print b\n",
    "    print 'first (tar, odd):', np.where(cond_blocks[b,:]==1)[0][0], np.where(cond_blocks[b,:]==2)[0][0]\n",
    "    print 'min gaps (tar, odd):', np.min(np.diff(np.where(cond_blocks[b,:]==1))), np.min(np.diff(np.where(cond_blocks[b,:]==2)))"
   ]
  },
  {
   "cell_type": "code",
   "execution_count": 7,
   "metadata": {
    "collapsed": false
   },
   "outputs": [],
   "source": [
    "# Write output\n",
    "with open('oddball_trial_order_csvs/block_' + str(n_trials) + '_trial_randomized_orders.csv', 'w') as write:\n",
    "    writer = csv.writer(write)\n",
    "    for b in range(n_blocks):\n",
    "        writer.writerow(cond_blocks[b,:])"
   ]
  },
  {
   "cell_type": "markdown",
   "metadata": {},
   "source": [
    "## Debug Blocks"
   ]
  },
  {
   "cell_type": "code",
   "execution_count": 8,
   "metadata": {
    "collapsed": false
   },
   "outputs": [
    {
     "name": "stdout",
     "output_type": "stream",
     "text": [
      "# times re-randomizing =  6\n"
     ]
    }
   ],
   "source": [
    "# Create list of trial types to randomize\n",
    "n_trials = 10\n",
    "n_blocks = 8\n",
    "n_std = 8\n",
    "n_tar = 1\n",
    "n_odd = 1\n",
    "cond_n = np.concatenate((np.tile(0,n_std),np.tile(1,n_tar),np.tile(2,n_odd))).astype(int)\n",
    "\n",
    "# Create randomized trial orders\n",
    "cond_blocks = np.zeros([n_blocks,n_trials])\n",
    "rand_iter = 1\n",
    "for b in range(n_blocks):\n",
    "    cond_blocks[b,:] = np.random.permutation(cond_n)\n",
    "    # Criteria:  not starting on target or oddball, no targets or oddballs within min_gap of last\n",
    "    while np.where(cond_blocks[b,:]==1)[0][0] < first_possible or \\\n",
    "            np.where(cond_blocks[b,:]==2)[0][0] < first_possible or \\\n",
    "            (np.diff(np.where(cond_blocks[b,:]==1)) < min_gap).any() or \\\n",
    "            (np.diff(np.where(cond_blocks[b,:]==2)) < min_gap).any():\n",
    "        cond_blocks[b,:] = np.random.permutation(cond_n)\n",
    "        rand_iter += 1\n",
    "print '# times re-randomizing = ', rand_iter"
   ]
  },
  {
   "cell_type": "code",
   "execution_count": 9,
   "metadata": {
    "collapsed": true
   },
   "outputs": [],
   "source": [
    "# Write output\n",
    "with open('oddball_trial_order_csvs/debug_' + str(n_trials) + '_trial_randomized_orders.csv', 'w') as write:\n",
    "    writer = csv.writer(write)\n",
    "    for b in range(n_blocks):\n",
    "        writer.writerow(cond_blocks[b,:])"
   ]
  },
  {
   "cell_type": "code",
   "execution_count": null,
   "metadata": {
    "collapsed": true
   },
   "outputs": [],
   "source": []
  }
 ],
 "metadata": {
  "kernelspec": {
   "display_name": "Python 2",
   "language": "python",
   "name": "python2"
  },
  "language_info": {
   "codemirror_mode": {
    "name": "ipython",
    "version": 2
   },
   "file_extension": ".py",
   "mimetype": "text/x-python",
   "name": "python",
   "nbconvert_exporter": "python",
   "pygments_lexer": "ipython2",
   "version": "2.7.13"
  }
 },
 "nbformat": 4,
 "nbformat_minor": 1
}
