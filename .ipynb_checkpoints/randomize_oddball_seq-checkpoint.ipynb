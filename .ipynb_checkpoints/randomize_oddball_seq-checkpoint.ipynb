{
 "cells": [
  {
   "cell_type": "code",
   "execution_count": 1,
   "metadata": {
    "collapsed": true
   },
   "outputs": [],
   "source": [
    "import numpy as np\n",
    "import itertools\n",
    "import csv"
   ]
  },
  {
   "cell_type": "code",
   "execution_count": 20,
   "metadata": {
    "collapsed": true
   },
   "outputs": [],
   "source": [
    "# Experiment Design\n",
    "conditions = ['std', 'tar', 'odd']\n",
    "n_sbj = 30\n",
    "n_trials = 130\n",
    "n_std = 98\n",
    "n_tar = 16\n",
    "n_odd = 16\n",
    "n_blocks = 3       # 2 for ECoG, 3 for EEG"
   ]
  },
  {
   "cell_type": "markdown",
   "metadata": {},
   "source": [
    "# Response Randomization"
   ]
  },
  {
   "cell_type": "code",
   "execution_count": 3,
   "metadata": {
    "collapsed": false
   },
   "outputs": [
    {
     "data": {
      "text/plain": [
       "array([2, 0, 1])"
      ]
     },
     "execution_count": 3,
     "metadata": {},
     "output_type": "execute_result"
    }
   ],
   "source": [
    "# # Randomizing stimulus and response assignments\n",
    "# resp_opts = [0, 1]\n",
    "# cond_opts = [0, 1, 2]\n",
    "# resp_perms = list(itertools.permutations(resp_opts))\n",
    "# cond_perms = list(itertools.permutations(cond_opts))\n",
    "\n",
    "# np.random.permutation(np.arange(len(conditions)))"
   ]
  },
  {
   "cell_type": "markdown",
   "metadata": {
    "collapsed": true
   },
   "source": [
    "### I'm not using this, just going in order and cycling through the permutations to make sure they're evenly covered"
   ]
  },
  {
   "cell_type": "markdown",
   "metadata": {},
   "source": [
    "# Sequence Randomization"
   ]
  },
  {
   "cell_type": "markdown",
   "metadata": {},
   "source": [
    "## Real Task"
   ]
  },
  {
   "cell_type": "code",
   "execution_count": 31,
   "metadata": {
    "collapsed": false
   },
   "outputs": [],
   "source": [
    "# Randomization Constraints\n",
    "first_possible = 3    # (python index of) first trial that can be surprise\n",
    "min_gap = 3    # minimum trials between surprising outcomes\n",
    "\n",
    "assert first_possible < n_trials-(n_odd*min_gap)"
   ]
  },
  {
   "cell_type": "code",
   "execution_count": 43,
   "metadata": {
    "collapsed": false
   },
   "outputs": [
    {
     "name": "stdout",
     "output_type": "stream",
     "text": [
      "[  3   4   7  11  35  38  41  52  79  85  91  93  96 101 107 117]\n",
      "[  2  23  30  32  43  45  53  59  62  63  65  73  81  97 104 106]\n",
      "[103 102  99  95  71  68  65  54  27  21  15  13  10   5   1  11]\n",
      "[True, False, False, False, False, False, True, False, False, False, False, False, False, True, False, True]\n"
     ]
    }
   ],
   "source": [
    "b2b_tests = [False] * len(tar_ix)\n",
    "for t_ix in range(len(tar_ix)):\n",
    "    if any(np.abs(odd_ix-tar_ix[t_ix])<2):\n",
    "        b2b_tests[t_ix] = True\n",
    "print odd_ix\n",
    "print tar_ix\n",
    "print np.abs(odd_ix-tar_ix[t_ix])\n",
    "print b2b_tests"
   ]
  },
  {
   "cell_type": "code",
   "execution_count": 44,
   "metadata": {
    "collapsed": false
   },
   "outputs": [
    {
     "name": "stdout",
     "output_type": "stream",
     "text": [
      "block 0 done!\n",
      "block 1 done!\n",
      "block 2 done!\n",
      "# times re-randomizing =  48488187\n",
      "0 0\n"
     ]
    },
    {
     "ename": "ValueError",
     "evalue": "The truth value of an array with more than one element is ambiguous. Use a.any() or a.all()",
     "output_type": "error",
     "traceback": [
      "\u001b[0;31m---------------------------------------------------------------------------\u001b[0m",
      "\u001b[0;31mValueError\u001b[0m                                Traceback (most recent call last)",
      "\u001b[0;32m<ipython-input-44-56a95d7b0772>\u001b[0m in \u001b[0;36m<module>\u001b[0;34m()\u001b[0m\n\u001b[1;32m     34\u001b[0m     \u001b[0;32mfor\u001b[0m \u001b[0mb2\u001b[0m \u001b[0;32min\u001b[0m \u001b[0mrange\u001b[0m\u001b[0;34m(\u001b[0m\u001b[0mn_blocks\u001b[0m\u001b[0;34m-\u001b[0m\u001b[0mb1\u001b[0m\u001b[0;34m-\u001b[0m\u001b[0;36m1\u001b[0m\u001b[0;34m)\u001b[0m\u001b[0;34m:\u001b[0m\u001b[0;34m\u001b[0m\u001b[0m\n\u001b[1;32m     35\u001b[0m         \u001b[0;32mprint\u001b[0m \u001b[0mb1\u001b[0m\u001b[0;34m,\u001b[0m \u001b[0mb2\u001b[0m\u001b[0;34m\u001b[0m\u001b[0m\n\u001b[0;32m---> 36\u001b[0;31m         \u001b[0;32mif\u001b[0m \u001b[0mcond_blocks\u001b[0m\u001b[0;34m[\u001b[0m\u001b[0mb1\u001b[0m\u001b[0;34m,\u001b[0m\u001b[0;34m:\u001b[0m\u001b[0;34m]\u001b[0m\u001b[0;34m==\u001b[0m\u001b[0mcond_blocks\u001b[0m\u001b[0;34m[\u001b[0m\u001b[0mb2\u001b[0m\u001b[0;34m+\u001b[0m\u001b[0mb1\u001b[0m\u001b[0;34m+\u001b[0m\u001b[0;36m1\u001b[0m\u001b[0;34m,\u001b[0m\u001b[0;34m:\u001b[0m\u001b[0;34m]\u001b[0m\u001b[0;34m:\u001b[0m\u001b[0;34m\u001b[0m\u001b[0m\n\u001b[0m\u001b[1;32m     37\u001b[0m             \u001b[0;32mprint\u001b[0m \u001b[0;34m'Warning!!! blocks {0} and {1} are the same!'\u001b[0m\u001b[0;34m.\u001b[0m\u001b[0mformat\u001b[0m\u001b[0;34m(\u001b[0m\u001b[0mb1\u001b[0m\u001b[0;34m,\u001b[0m\u001b[0mb2\u001b[0m\u001b[0;34m)\u001b[0m\u001b[0;34m\u001b[0m\u001b[0m\n",
      "\u001b[0;31mValueError\u001b[0m: The truth value of an array with more than one element is ambiguous. Use a.any() or a.all()"
     ]
    }
   ],
   "source": [
    "# Create list of trial types to randomize\n",
    "cond_n = np.concatenate((np.tile(0,n_std),np.tile(1,n_tar),np.tile(2,n_odd))).astype(int)\n",
    "\n",
    "# Create randomized trial orders\n",
    "cond_blocks = np.zeros([n_blocks,n_trials])\n",
    "rand_iter = 1\n",
    "for b in range(n_blocks):\n",
    "    cond_blocks[b,:] = np.random.permutation(cond_n)\n",
    "    # Criteria:\n",
    "    #   not starting on target or oddball\n",
    "    #   no targets or oddballs within min_gap of last\n",
    "    #   no targets or oddballs back-to-back\n",
    "    b2b = False\n",
    "    tar_ix = np.where(cond_blocks[b,:]==1)[0]\n",
    "    odd_ix = np.where(cond_blocks[b,:]==2)[0]\n",
    "    for t_ix in range(len(tar_ix)):\n",
    "        if any(np.abs(odd_ix-tar_ix[t_ix])<2):\n",
    "            b2b = True\n",
    "    while np.where(cond_blocks[b,:]==1)[0][0] < first_possible or \\\n",
    "            np.where(cond_blocks[b,:]==2)[0][0] < first_possible or \\\n",
    "            (np.diff(np.where(cond_blocks[b,:]==1)) < min_gap).any() or \\\n",
    "            (np.diff(np.where(cond_blocks[b,:]==2)) < min_gap).any() or \\\n",
    "            b2b:\n",
    "        cond_blocks[b,:] = np.random.permutation(cond_n)\n",
    "        b2b = False\n",
    "        tar_ix = np.where(cond_blocks[b,:]==1)[0]\n",
    "        odd_ix = np.where(cond_blocks[b,:]==2)[0]\n",
    "        for t_ix in range(len(tar_ix)):\n",
    "            if any(np.abs(odd_ix-tar_ix[t_ix])<2):\n",
    "                b2b = True\n",
    "        rand_iter += 1\n",
    "    print 'block {0} done!'.format(b)\n",
    "\n",
    "print '# times re-randomizing = ', rand_iter"
   ]
  },
  {
   "cell_type": "code",
   "execution_count": 49,
   "metadata": {
    "collapsed": false
   },
   "outputs": [
    {
     "name": "stdout",
     "output_type": "stream",
     "text": [
      "blocks 0 and 1 are different.\n",
      "blocks 0 and 2 are different.\n",
      "blocks 1 and 2 are different.\n"
     ]
    }
   ],
   "source": [
    "# Check that sequences are different\n",
    "for b1 in range(n_blocks):\n",
    "    for b2 in range(n_blocks-b1-1):\n",
    "        if all(cond_blocks[b1,:]==cond_blocks[b2+b1+1,:]):\n",
    "            print 'Warning!!! blocks {0} and {1} are the same!'.format(b1,b2+b1+1)\n",
    "        else:\n",
    "            print 'blocks {0} and {1} are different.'.format(b1,b2+b1+1)"
   ]
  },
  {
   "cell_type": "code",
   "execution_count": 53,
   "metadata": {
    "collapsed": false,
    "scrolled": true
   },
   "outputs": [
    {
     "name": "stdout",
     "output_type": "stream",
     "text": [
      "Block 0:\n",
      "first (tar, odd): 9 5\n",
      "min gaps (tar, odd): 3 4\n",
      "mean gaps (tar, odd): 7.6 7.6\n",
      "\n",
      "Block 1:\n",
      "first (tar, odd): 6 10\n",
      "min gaps (tar, odd): 3 3\n",
      "mean gaps (tar, odd): 8.0 7.4\n",
      "\n",
      "Block 2:\n",
      "first (tar, odd): 13 7\n",
      "min gaps (tar, odd): 3 3\n",
      "mean gaps (tar, odd): 7.6 8.13333333333\n",
      "\n"
     ]
    }
   ],
   "source": [
    "for b in range(n_blocks):\n",
    "    print 'Block {0}:'.format(b)\n",
    "    print 'first (tar, odd):', np.where(cond_blocks[b,:]==1)[0][0], np.where(cond_blocks[b,:]==2)[0][0]\n",
    "    print 'min gaps (tar, odd):', np.min(np.diff(np.where(cond_blocks[b,:]==1))), np.min(np.diff(np.where(cond_blocks[b,:]==2)))\n",
    "    print 'mean gaps (tar, odd):', np.mean(np.diff(np.where(cond_blocks[b,:]==1))), np.mean(np.diff(np.where(cond_blocks[b,:]==2)))\n",
    "    print"
   ]
  },
  {
   "cell_type": "code",
   "execution_count": 54,
   "metadata": {
    "collapsed": false
   },
   "outputs": [],
   "source": [
    "# Write output\n",
    "with open('oddball_trial_order_csvs/block_' + str(n_trials) + '_trial_randomized_orders.csv', 'w') as write:\n",
    "    writer = csv.writer(write)\n",
    "    for b in range(n_blocks):\n",
    "        writer.writerow(cond_blocks[b,:])"
   ]
  },
  {
   "cell_type": "markdown",
   "metadata": {},
   "source": [
    "## Debug Blocks"
   ]
  },
  {
   "cell_type": "code",
   "execution_count": 8,
   "metadata": {
    "collapsed": false
   },
   "outputs": [
    {
     "name": "stdout",
     "output_type": "stream",
     "text": [
      "# times re-randomizing =  6\n"
     ]
    }
   ],
   "source": [
    "# Create list of trial types to randomize\n",
    "n_trials = 10\n",
    "n_blocks = 8\n",
    "n_std = 8\n",
    "n_tar = 1\n",
    "n_odd = 1\n",
    "cond_n = np.concatenate((np.tile(0,n_std),np.tile(1,n_tar),np.tile(2,n_odd))).astype(int)\n",
    "\n",
    "# Create randomized trial orders\n",
    "cond_blocks = np.zeros([n_blocks,n_trials])\n",
    "rand_iter = 1\n",
    "for b in range(n_blocks):\n",
    "    cond_blocks[b,:] = np.random.permutation(cond_n)\n",
    "    # Criteria:  not starting on target or oddball, no targets or oddballs within min_gap of last\n",
    "    while np.where(cond_blocks[b,:]==1)[0][0] < first_possible or \\\n",
    "            np.where(cond_blocks[b,:]==2)[0][0] < first_possible or \\\n",
    "            (np.diff(np.where(cond_blocks[b,:]==1)) < min_gap).any() or \\\n",
    "            (np.diff(np.where(cond_blocks[b,:]==2)) < min_gap).any():\n",
    "        cond_blocks[b,:] = np.random.permutation(cond_n)\n",
    "        rand_iter += 1\n",
    "print '# times re-randomizing = ', rand_iter"
   ]
  },
  {
   "cell_type": "code",
   "execution_count": 9,
   "metadata": {
    "collapsed": true
   },
   "outputs": [],
   "source": [
    "# Write output\n",
    "with open('oddball_trial_order_csvs/debug_' + str(n_trials) + '_trial_randomized_orders.csv', 'w') as write:\n",
    "    writer = csv.writer(write)\n",
    "    for b in range(n_blocks):\n",
    "        writer.writerow(cond_blocks[b,:])"
   ]
  },
  {
   "cell_type": "code",
   "execution_count": null,
   "metadata": {
    "collapsed": true
   },
   "outputs": [],
   "source": []
  }
 ],
 "metadata": {
  "kernelspec": {
   "display_name": "Python 2",
   "language": "python",
   "name": "python2"
  },
  "language_info": {
   "codemirror_mode": {
    "name": "ipython",
    "version": 2
   },
   "file_extension": ".py",
   "mimetype": "text/x-python",
   "name": "python",
   "nbconvert_exporter": "python",
   "pygments_lexer": "ipython2",
   "version": "2.7.13"
  }
 },
 "nbformat": 4,
 "nbformat_minor": 1
}
