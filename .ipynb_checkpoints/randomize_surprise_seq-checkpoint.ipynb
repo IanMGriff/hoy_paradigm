{
 "cells": [
  {
   "cell_type": "code",
   "execution_count": 1,
   "metadata": {
    "collapsed": false
   },
   "outputs": [
    {
     "name": "stderr",
     "output_type": "stream",
     "text": [
      ":0: FutureWarning: IPython widgets are experimental and may change in the future.\n"
     ]
    }
   ],
   "source": [
    "%matplotlib inline\n",
    "import seaborn as sns\n",
    "import numpy as np\n",
    "from itertools import groupby\n",
    "# import matplotlib.pyplot as plt\n",
    "# from scipy import stats"
   ]
  },
  {
   "cell_type": "markdown",
   "metadata": {},
   "source": [
    "# Task Design Parameters and Constraints"
   ]
  },
  {
   "cell_type": "code",
   "execution_count": 2,
   "metadata": {
    "collapsed": true
   },
   "outputs": [],
   "source": [
    "# Design Parameters\n",
    "n_blocks = 8    # number of random sequences to generate (1 per block)\n",
    "n_trials = 75   # number of trials PER BLOCK\n",
    "n_surp = 9      # 9/75 = 12% surprising outcomes\n",
    "\n",
    "# Randomization Constraints\n",
    "first_possible = 10    # first trial that can be surprise\n",
    "min_gap = 4            # minimum trials between surprising outcomes\n",
    "min_uniq = 6           # minimum number of unique gaps to avoid predictability of surprise\n",
    "max_repeat_spacing = 1 # max number of times the same spacing can be sued back-to-back\n",
    "\n",
    "assert first_possible < n_trials-(n_surp*min_gap)"
   ]
  },
  {
   "cell_type": "markdown",
   "metadata": {},
   "source": [
    "# Sequence Randomization"
   ]
  },
  {
   "cell_type": "code",
   "execution_count": 3,
   "metadata": {
    "collapsed": true
   },
   "outputs": [],
   "source": [
    "def repeat_cnt(sequence):\n",
    "    # count the number of equivalent neighbors in a sequence\n",
    "    # e.g., repeat_cnt([4 2 3 3 6 10 7 7 7]) = [1 1 2 1 1 3]\n",
    "    return [sum(1 for _ in group) for _, group in groupby(sequence)]"
   ]
  },
  {
   "cell_type": "code",
   "execution_count": 4,
   "metadata": {
    "collapsed": false
   },
   "outputs": [
    {
     "name": "stdout",
     "output_type": "stream",
     "text": [
      "# times re-randomizing =  2293\n"
     ]
    }
   ],
   "source": [
    "trial_ix = np.array(range(first_possible,75))#possible trial numbers starting on the tenth one\n",
    "surp_trl = np.zeros([n_blocks,n_surp])\n",
    "mlt_iter = 0\n",
    "for ix in range(n_blocks):\n",
    "    surp_trl[ix,:] = np.sort(np.random.choice(trial_ix,size=9))\n",
    "    while min(np.diff(surp_trl[ix,:]))<min_gap or \\\n",
    "            len(np.unique(np.diff(surp_trl[ix,:])))<min_uniq or \\\n",
    "            max(repeat_cnt(surp_trl[ix,:]))>max_repeat_spacing:\n",
    "        surp_trl[ix,:] = np.sort(np.random.choice(trial_ix,size=9))\n",
    "        mlt_iter+=1\n",
    "print '# times re-randomizing = ', mlt_iter"
   ]
  },
  {
   "cell_type": "markdown",
   "metadata": {},
   "source": [
    "## View Randomization Results"
   ]
  },
  {
   "cell_type": "code",
   "execution_count": 5,
   "metadata": {
    "collapsed": false
   },
   "outputs": [
    {
     "name": "stdout",
     "output_type": "stream",
     "text": [
      "surprise trial ix:  [ 12.  19.  30.  39.  43.  53.  59.  66.  71.]\n",
      "gaps sizes:  [  7.  11.   9.   4.  10.   6.   7.   5.]\n"
     ]
    },
    {
     "data": {
      "text/plain": [
       "<matplotlib.axes._subplots.AxesSubplot at 0x118bee610>"
      ]
     },
     "execution_count": 5,
     "metadata": {},
     "output_type": "execute_result"
    },
    {
     "data": {
      "image/png": "[encoded data removed]",
      "text/plain": [
       "<matplotlib.figure.Figure at 0x118be5dd0>"
      ]
     },
     "metadata": {},
     "output_type": "display_data"
    }
   ],
   "source": [
    "block_ix = 2\n",
    "print 'surprise trial ix: ', surp_trl[ix,:]\n",
    "print 'gaps sizes: ', np.diff(surp_trl[ix,:])\n",
    "# print(min(np.diff(surp_trl[ix,:])), len(np.unique(np.diff(surp_trl[ix,:]))))\n",
    "sns.distplot(np.diff(surp_trl[ix,:]),bins=range(min_gap,int(max(np.diff(surp_trl[ix,:])))))"
   ]
  },
  {
   "cell_type": "markdown",
   "metadata": {},
   "source": [
    "# Old Crap on Sequence Statistics"
   ]
  },
  {
   "cell_type": "code",
   "execution_count": 34,
   "metadata": {
    "collapsed": false
   },
   "outputs": [
    {
     "ename": "ValueError",
     "evalue": "setting an array element with a sequence.",
     "output_type": "error",
     "traceback": [
      "\u001b[0;31m---------------------------------------------------------------------------\u001b[0m",
      "\u001b[0;31mValueError\u001b[0m                                Traceback (most recent call last)",
      "\u001b[0;32m<ipython-input-34-ef833335a543>\u001b[0m in \u001b[0;36m<module>\u001b[0;34m()\u001b[0m\n\u001b[1;32m     14\u001b[0m     \u001b[0mmaxs\u001b[0m\u001b[0;34m[\u001b[0m\u001b[0mix\u001b[0m\u001b[0;34m]\u001b[0m \u001b[0;34m=\u001b[0m \u001b[0mnp\u001b[0m\u001b[0;34m.\u001b[0m\u001b[0mmax\u001b[0m\u001b[0;34m(\u001b[0m\u001b[0msurp_spacing\u001b[0m\u001b[0;34m)\u001b[0m\u001b[0;34m\u001b[0m\u001b[0m\n\u001b[1;32m     15\u001b[0m     \u001b[0mmins\u001b[0m\u001b[0;34m[\u001b[0m\u001b[0mix\u001b[0m\u001b[0;34m]\u001b[0m \u001b[0;34m=\u001b[0m \u001b[0mnp\u001b[0m\u001b[0;34m.\u001b[0m\u001b[0mmin\u001b[0m\u001b[0;34m(\u001b[0m\u001b[0msurp_spacing\u001b[0m\u001b[0;34m)\u001b[0m\u001b[0;34m\u001b[0m\u001b[0m\n\u001b[0;32m---> 16\u001b[0;31m     \u001b[0mmodes\u001b[0m\u001b[0;34m[\u001b[0m\u001b[0mix\u001b[0m\u001b[0;34m]\u001b[0m \u001b[0;34m=\u001b[0m \u001b[0mstats\u001b[0m\u001b[0;34m.\u001b[0m\u001b[0mmode\u001b[0m\u001b[0;34m(\u001b[0m\u001b[0msurp_spacing\u001b[0m\u001b[0;34m,\u001b[0m\u001b[0maxis\u001b[0m\u001b[0;34m=\u001b[0m\u001b[0mNone\u001b[0m\u001b[0;34m)\u001b[0m\u001b[0;34m\u001b[0m\u001b[0m\n\u001b[0m",
      "\u001b[0;31mValueError\u001b[0m: setting an array element with a sequence."
     ]
    }
   ],
   "source": [
    "varss = np.zeros(1000)\n",
    "maxs = np.zeros(1000)\n",
    "mins = np.zeros(1000)\n",
    "means = np.zeros(1000)\n",
    "modes = np.zeros(1000)\n",
    "iter = \n",
    "for ix in range(1000):\n",
    "    surp_trl = np.sort(np.random.choice(trials,size=9))\n",
    "    while min(np.diff(surp_trl))<=3 and len(np.unique(np.diff(surp_trl)))<7:\n",
    "        surp_trl = np.sort(np.random.choice(trials,size=9))\n",
    "    surp_spacing = np.diff(surp_trl)\n",
    "    varss[ix] = np.var(surp_spacing)\n",
    "    means[ix] = np.mean(surp_spacing)\n",
    "    maxs[ix] = np.max(surp_spacing)\n",
    "    mins[ix] = np.min(surp_spacing)\n",
    "    modes[ix] = stats.mode(surp_spacing,axis=None)"
   ]
  },
  {
   "cell_type": "code",
   "execution_count": 25,
   "metadata": {
    "collapsed": false
   },
   "outputs": [
    {
     "name": "stdout",
     "output_type": "stream",
     "text": [
      "('# small_var < 10 = ', 270)\n"
     ]
    }
   ],
   "source": [
    "print('# small_var < 10 = ', sum(varss<10))"
   ]
  },
  {
   "cell_type": "code",
   "execution_count": 14,
   "metadata": {
    "collapsed": false
   },
   "outputs": [
    {
     "name": "stdout",
     "output_type": "stream",
     "text": [
      "(8.0, 57.109375)\n",
      "(4.875, 32.734375)\n",
      "(7.5, 56.4375)\n",
      "(6.875, 20.109375)\n",
      "(7.125, 43.75)\n",
      "(7.875, 29.859375)\n",
      "(7.625, 37.609375)\n",
      "(8.5, 153.234375)\n",
      "(6.5, 33.1875)\n",
      "(6.125, 32.4375)\n"
     ]
    }
   ],
   "source": [
    "for ix in range(10):\n",
    "    print(means[ix], varss[ix])"
   ]
  },
  {
   "cell_type": "code",
   "execution_count": 26,
   "metadata": {
    "collapsed": false
   },
   "outputs": [
    {
     "data": {
      "text/plain": [
       "<matplotlib.axes._subplots.AxesSubplot at 0x11f7eb390>"
      ]
     },
     "execution_count": 26,
     "metadata": {},
     "output_type": "execute_result"
    },
    {
     "data": {
      "image/png": "[encoded data removed]",
      "text/plain": [
       "<matplotlib.figure.Figure at 0x11f74dc90>"
      ]
     },
     "metadata": {},
     "output_type": "display_data"
    }
   ],
   "source": [
    "sns.distplot(means)"
   ]
  },
  {
   "cell_type": "code",
   "execution_count": 27,
   "metadata": {
    "collapsed": false
   },
   "outputs": [
    {
     "data": {
      "text/plain": [
       "<matplotlib.axes._subplots.AxesSubplot at 0x11f805e50>"
      ]
     },
     "execution_count": 27,
     "metadata": {},
     "output_type": "execute_result"
    },
    {
     "data": {
      "image/png": "[encoded data removed]",
      "text/plain": [
       "<matplotlib.figure.Figure at 0x11f825e10>"
      ]
     },
     "metadata": {},
     "output_type": "display_data"
    }
   ],
   "source": [
    "sns.distplot(varss)"
   ]
  },
  {
   "cell_type": "code",
   "execution_count": 28,
   "metadata": {
    "collapsed": false
   },
   "outputs": [
    {
     "data": {
      "text/plain": [
       "<matplotlib.axes._subplots.AxesSubplot at 0x11faf4510>"
      ]
     },
     "execution_count": 28,
     "metadata": {},
     "output_type": "execute_result"
    },
    {
     "data": {
      "image/png": "[encoded data removed]",
      "text/plain": [
       "<matplotlib.figure.Figure at 0x11fb08a90>"
      ]
     },
     "metadata": {},
     "output_type": "display_data"
    }
   ],
   "source": [
    "sns.distplot(mins)"
   ]
  },
  {
   "cell_type": "code",
   "execution_count": 29,
   "metadata": {
    "collapsed": false
   },
   "outputs": [
    {
     "data": {
      "text/plain": [
       "<matplotlib.axes._subplots.AxesSubplot at 0x11fcf49d0>"
      ]
     },
     "execution_count": 29,
     "metadata": {},
     "output_type": "execute_result"
    },
    {
     "data": {
      "image/png": "[encoded data removed]",
      "text/plain": [
       "<matplotlib.figure.Figure at 0x11fd1c610>"
      ]
     },
     "metadata": {},
     "output_type": "display_data"
    }
   ],
   "source": [
    "sns.distplot(maxs)"
   ]
  },
  {
   "cell_type": "code",
   "execution_count": null,
   "metadata": {
    "collapsed": true
   },
   "outputs": [],
   "source": []
  }
 ],
 "metadata": {
  "kernelspec": {
   "display_name": "Python 2",
   "language": "python",
   "name": "python2"
  },
  "language_info": {
   "codemirror_mode": {
    "name": "ipython",
    "version": 2
   },
   "file_extension": ".py",
   "mimetype": "text/x-python",
   "name": "python",
   "nbconvert_exporter": "python",
   "pygments_lexer": "ipython2",
   "version": "2.7.13"
  }
 },
 "nbformat": 4,
 "nbformat_minor": 0
}
